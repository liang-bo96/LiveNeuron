{
 "cells": [
  {
   "cell_type": "markdown",
   "metadata": {},
   "source": [
    "# LiveNeuron 2D Brain Visualization Demo\n",
    "\n",
    "This notebook demonstrates the interactive 2D brain visualization capabilities of LiveNeuron using the `EelbrainPlotly2DViz` class.\n",
    "\n",
    "## Features\n",
    "- **Interactive 2D brain projections** (axial, sagittal, coronal views)\n",
    "- **Butterfly plots** for time series visualization\n",
    "- **453x faster arrow rendering** using optimized batch techniques\n",
    "- **Real-time controls** for time navigation and interaction\n",
    "- **Customizable colormaps** and visualization options\n"
   ]
  },
  {
   "cell_type": "markdown",
   "metadata": {},
   "source": [
    "## 1. Setup and Import\n"
   ]
  },
  {
   "cell_type": "code",
   "execution_count": null,
   "metadata": {},
   "outputs": [
    {
     "name": "stdout",
     "output_type": "stream",
     "text": [
      "✓ Eelbrain available - can use custom data\n"
     ]
    }
   ],
   "source": [
    "# Import the visualization class\n",
    "from eelbrain_plotly_viz import EelbrainPlotly2DViz\n",
    "\n",
    "# Optional: Import eelbrain for custom data\n",
    "try:\n",
    "    from eelbrain import datasets\n",
    "    print(\"✓ Eelbrain available - can use custom data\")\n",
    "    EELBRAIN_AVAILABLE = True\n",
    "except ImportError:\n",
    "    print(\"⚠ Eelbrain not available - using built-in sample data only\")\n",
    "    EELBRAIN_AVAILABLE = False\n",
    "\n",
    "import numpy as np\n",
    "import warnings\n",
    "warnings.filterwarnings('ignore')\n"
   ]
  },
  {
   "cell_type": "markdown",
   "metadata": {},
   "source": [
    "## 2. Basic Visualization with Sample Data\n",
    "\n",
    "The simplest way to start is with the built-in MNE sample data:\n"
   ]
  },
  {
   "cell_type": "code",
   "execution_count": null,
   "metadata": {},
   "outputs": [
    {
     "name": "stdout",
     "output_type": "stream",
     "text": [
      "🧠 Creating basic LiveNeuron visualization...\n",
      "✓ Visualization created successfully!\n",
      "📊 Data loaded: Built-in MNE sample data\n",
      "📍 Sources: 1589\n",
      "⏱️ Time points: 76\n",
      "🎯 Vector data: True\n",
      "🧠 Brain region: Full Brain\n"
     ]
    }
   ],
   "source": [
    "# Create basic visualization with default sample data\n",
    "print(\"🧠 Creating basic LiveNeuron visualization...\")\n",
    "viz_basic = EelbrainPlotly2DViz()\n",
    "\n",
    "print(\"✓ Visualization created successfully!\")\n",
    "print(\"📊 Data loaded: Built-in MNE sample data\")\n",
    "print(f\"📍 Sources: {viz_basic.glass_brain_data.shape[0]}\")\n",
    "print(f\"⏱️ Time points: {viz_basic.glass_brain_data.shape[2]}\")\n",
    "print(f\"🎯 Vector data: {viz_basic.glass_brain_data.shape[1] == 3}\")\n",
    "print(f\"🧠 Brain region: {viz_basic.region_of_brain}\")\n"
   ]
  },
  {
   "cell_type": "markdown",
   "metadata": {},
   "source": [
    "### Launch Interactive Dashboard\n",
    "\n",
    "Click the button below to launch the interactive visualization in Jupyter:\n"
   ]
  },
  {
   "cell_type": "code",
   "execution_count": null,
   "metadata": {},
   "outputs": [
    {
     "name": "stdout",
     "output_type": "stream",
     "text": [
      "\n",
      "Starting 2D Brain Visualization with modern Dash Jupyter integration...\n",
      "Mode: inline, Size: 1200x900px\n"
     ]
    },
    {
     "data": {
      "text/html": [
       "\n",
       "        <iframe\n",
       "            width=\"100%\"\n",
       "            height=\"650\"\n",
       "            src=\"http://127.0.0.1:8776/\"\n",
       "            frameborder=\"0\"\n",
       "            allowfullscreen\n",
       "            \n",
       "        ></iframe>\n",
       "        "
      ],
      "text/plain": [
       "<IPython.lib.display.IFrame at 0x12cddc7a0>"
      ]
     },
     "metadata": {},
     "output_type": "display_data"
    }
   ],
   "source": [
    "# Show the visualization inline in Jupyter notebook with proper sizing\n",
    "# This method creates a properly sized iframe that communicates its dimensions to Jupyter\n",
    "viz_basic.show_in_jupyter(width=1200, height=900)\n"
   ]
  },
  {
   "cell_type": "markdown",
   "metadata": {},
   "source": [
    "## 3. Customized Visualization\n",
    "\n",
    "Let's create a more customized visualization with different options:\n"
   ]
  },
  {
   "cell_type": "code",
   "execution_count": null,
   "metadata": {},
   "outputs": [
    {
     "name": "stdout",
     "output_type": "stream",
     "text": [
      "🎨 Creating customized visualization...\n",
      "✓ Custom visualization created!\n",
      "🎨 Colormap: Custom yellow-orange-red gradient\n",
      "🦋 Butterfly plot: Mean and max traces only\n",
      "➡️ Arrows: Auto-threshold (significant arrows only)\n"
     ]
    }
   ],
   "source": [
    "# Custom colormap\n",
    "custom_cmap = [\n",
    "    [0, 'rgba(255,255,0,0.5)'],    # Yellow with 50% transparency\n",
    "    [0.5, 'rgba(255,165,0,0.8)'],  # Orange with 80% transparency\n",
    "    [1, 'rgba(255,0,0,1.0)']       # Red with full opacity\n",
    "]\n",
    "\n",
    "# Create customized visualization\n",
    "print(\"🎨 Creating customized visualization...\")\n",
    "viz_custom = EelbrainPlotly2DViz(\n",
    "    y=None,                       # Use built-in sample data\n",
    "    region=None,                  # Use full brain\n",
    "    cmap=custom_cmap,            # Custom colormap\n",
    "    show_max_only=True,          # Show only mean and max in butterfly plot\n",
    "    arrow_threshold='auto'        # Show only significant arrows\n",
    ")\n",
    "\n",
    "print(\"✓ Custom visualization created!\")\n",
    "print(\"🎨 Colormap: Custom yellow-orange-red gradient\")\n",
    "print(\"🦋 Butterfly plot: Mean and max traces only\")\n",
    "print(\"➡️ Arrows: Auto-threshold (significant arrows only)\")\n"
   ]
  },
  {
   "cell_type": "code",
   "execution_count": null,
   "metadata": {},
   "outputs": [
    {
     "name": "stdout",
     "output_type": "stream",
     "text": [
      "\n",
      "Starting 2D Brain Visualization with modern Dash Jupyter integration...\n",
      "Mode: inline, Size: 1400x1000px\n"
     ]
    },
    {
     "data": {
      "text/html": [
       "\n",
       "        <iframe\n",
       "            width=\"100%\"\n",
       "            height=\"650\"\n",
       "            src=\"http://127.0.0.1:8961/\"\n",
       "            frameborder=\"0\"\n",
       "            allowfullscreen\n",
       "            \n",
       "        ></iframe>\n",
       "        "
      ],
      "text/plain": [
       "<IPython.lib.display.IFrame at 0x13eed2b10>"
      ]
     },
     "metadata": {},
     "output_type": "display_data"
    }
   ],
   "source": [
    "# Launch the customized visualization\n",
    "viz_custom.show_in_jupyter(width=1400, height=1000)\n"
   ]
  },
  {
   "cell_type": "markdown",
   "metadata": {},
   "source": [
    "## 4. Alternative: External Browser Mode\n",
    "\n",
    "If Jupyter inline display doesn't work, you can open in external browser:\n"
   ]
  },
  {
   "cell_type": "code",
   "execution_count": null,
   "metadata": {},
   "outputs": [
    {
     "name": "stdout",
     "output_type": "stream",
     "text": [
      "🌐 To launch in external browser, uncomment the line below:\n",
      "viz_external.run(port=8888, debug=False)\n",
      "📝 Note: This will open a new browser tab/window\n"
     ]
    }
   ],
   "source": [
    "# Create a new visualization for external browser\n",
    "viz_external = EelbrainPlotly2DViz(\n",
    "    cmap='YlOrRd',  # Yellow-Orange-Red colormap\n",
    "    show_max_only=False\n",
    ")\n",
    "\n",
    "print(\"🌐 To launch in external browser, uncomment the line below:\")\n",
    "print(\"viz_external.run(port=8888, debug=False)\")\n",
    "print(\"📝 Note: This will open a new browser tab/window\")\n",
    "\n",
    "# Uncomment the line below to launch in external browser\n",
    "# viz_external.run(port=8888, debug=False)\n"
   ]
  },
  {
   "cell_type": "markdown",
   "metadata": {},
   "source": [
    "## 5. Performance and Tips\n",
    "\n",
    "LiveNeuron includes several performance optimizations and useful features:\n"
   ]
  },
  {
   "cell_type": "code",
   "execution_count": null,
   "metadata": {},
   "outputs": [
    {
     "name": "stdout",
     "output_type": "stream",
     "text": [
      "⚡ LiveNeuron Performance Features:\n",
      "\n",
      "🚀 Arrow Rendering Optimization:\n",
      "   • 453x speedup over individual annotations\n",
      "   • Batch rendering using single Plotly traces\n",
      "   • Handles thousands of arrows smoothly\n",
      "\n",
      "🎛️ Interactive Features:\n",
      "   • Click on butterfly plot to navigate time\n",
      "   • Click on brain sources for detailed information\n",
      "   • Real-time synchronized updates across all views\n",
      "\n",
      "💡 Usage Tips:\n",
      "   • Quick start: EelbrainPlotly2DViz().show_in_jupyter()\n",
      "   • Custom colors: Use 'cmap' parameter\n",
      "   • Clean plots: Set show_max_only=True\n",
      "   • Arrow filtering: Use arrow_threshold='auto'\n",
      "\n",
      "📊 Current Visualization Stats:\n",
      "   • Sources: 1589\n",
      "   • Time points: 76\n",
      "   • Vector data: True\n",
      "   • Data shape: (1589, 3, 76)\n",
      "   • Brain region: Full Brain\n",
      "\n",
      "🎉 LiveNeuron viz2d demo completed!\n",
      "💡 Try different combinations of parameters to explore the full functionality!\n"
     ]
    }
   ],
   "source": [
    "# Display performance information and tips\n",
    "print(\"⚡ LiveNeuron Performance Features:\")\n",
    "print(\"\\n🚀 Arrow Rendering Optimization:\")\n",
    "print(\"   • 453x speedup over individual annotations\")\n",
    "print(\"   • Batch rendering using single Plotly traces\")\n",
    "print(\"   • Handles thousands of arrows smoothly\")\n",
    "\n",
    "print(\"\\n🎛️ Interactive Features:\")\n",
    "print(\"   • Click on butterfly plot to navigate time\")\n",
    "print(\"   • Click on brain sources for detailed information\")\n",
    "print(\"   • Real-time synchronized updates across all views\")\n",
    "\n",
    "print(\"\\n💡 Usage Tips:\")\n",
    "print(\"   • Quick start: EelbrainPlotly2DViz().show_in_jupyter()\")\n",
    "print(\"   • Custom colors: Use 'cmap' parameter\")\n",
    "print(\"   • Clean plots: Set show_max_only=True\")\n",
    "print(\"   • Arrow filtering: Use arrow_threshold='auto'\")\n",
    "\n",
    "print(f\"\\n📊 Current Visualization Stats:\")\n",
    "print(f\"   • Sources: {viz_basic.glass_brain_data.shape[0]}\")\n",
    "print(f\"   • Time points: {viz_basic.glass_brain_data.shape[2]}\")\n",
    "print(f\"   • Vector data: {viz_basic.glass_brain_data.shape[1] == 3}\")\n",
    "print(f\"   • Data shape: {viz_basic.glass_brain_data.shape}\")\n",
    "print(f\"   • Brain region: {viz_basic.region_of_brain}\")\n",
    "\n",
    "print(\"\\n🎉 LiveNeuron viz2d demo completed!\")\n",
    "print(\"💡 Try different combinations of parameters to explore the full functionality!\")\n"
   ]
  },
  {
   "cell_type": "markdown",
   "metadata": {},
   "source": [
    "## 6. Quick Test - Verify Everything is Working\n",
    "\n",
    "Let's do a quick test to make sure all components are working correctly:\n"
   ]
  },
  {
   "cell_type": "code",
   "execution_count": null,
   "metadata": {},
   "outputs": [
    {
     "name": "stdout",
     "output_type": "stream",
     "text": [
      "🔧 Testing LiveNeuron functionality...\n",
      "✅ Test 1 PASSED: Visualization creation\n",
      "✅ Test 2 PASSED: Data loading (1589 sources, 76 times, vector=True)\n",
      "✅ Test 3 PASSED: Brain projection creation\n",
      "✅ Test 4 PASSED: Butterfly plot creation\n",
      "\n",
      "🎉 All tests completed! Ready to use LiveNeuron!\n",
      "\n",
      "📝 Now you can:\n",
      "   • Run viz_basic.show_in_jupyter() for interactive display\n",
      "   • Run viz_basic.run() for external browser\n",
      "   • Customize parameters and explore different options\n"
     ]
    }
   ],
   "source": [
    "# Quick functionality test\n",
    "print(\"🔧 Testing LiveNeuron functionality...\")\n",
    "\n",
    "# Test 1: Create visualization\n",
    "try:\n",
    "    test_viz = EelbrainPlotly2DViz()\n",
    "    print(\"✅ Test 1 PASSED: Visualization creation\")\n",
    "except Exception as e:\n",
    "    print(f\"❌ Test 1 FAILED: {e}\")\n",
    "\n",
    "# Test 2: Check data loading\n",
    "try:\n",
    "    n_sources = test_viz.glass_brain_data.shape[0]\n",
    "    n_times = test_viz.glass_brain_data.shape[2]\n",
    "    is_vector = test_viz.glass_brain_data.shape[1] == 3\n",
    "    print(f\"✅ Test 2 PASSED: Data loading ({n_sources} sources, {n_times} times, vector={is_vector})\")\n",
    "except Exception as e:\n",
    "    print(f\"❌ Test 2 FAILED: {e}\")\n",
    "\n",
    "# Test 3: Test visualization creation methods\n",
    "try:\n",
    "    fig = test_viz.create_2d_brain_projections_plotly(time_idx=10)\n",
    "    print(\"✅ Test 3 PASSED: Brain projection creation\")\n",
    "except Exception as e:\n",
    "    print(f\"❌ Test 3 FAILED: {e}\")\n",
    "\n",
    "# Test 4: Test butterfly plot creation\n",
    "try:\n",
    "    butterfly_fig = test_viz.create_butterfly_plot(selected_time_idx=10)\n",
    "    print(\"✅ Test 4 PASSED: Butterfly plot creation\")\n",
    "except Exception as e:\n",
    "    print(f\"❌ Test 4 FAILED: {e}\")\n",
    "\n",
    "print(\"\\n🎉 All tests completed! Ready to use LiveNeuron!\")\n",
    "print(\"\\n📝 Now you can:\")\n",
    "print(\"   • Run viz_basic.show_in_jupyter() for interactive display\")\n",
    "print(\"   • Run viz_basic.run() for external browser\")\n",
    "print(\"   • Customize parameters and explore different options\")\n"
   ]
  },
  {
   "cell_type": "code",
   "execution_count": null,
   "metadata": {},
   "outputs": [],
   "source": []
  },
  {
   "cell_type": "markdown",
   "metadata": {},
   "source": [
    "## 6. Alternative: Static Display for Perfect Sizing\n",
    "\n",
    "If you want guaranteed proper sizing without any iframe issues, you can use the static display method:\n"
   ]
  },
  {
   "cell_type": "code",
   "execution_count": null,
   "metadata": {},
   "outputs": [],
   "source": [
    "# Create a new visualization for static display\n",
    "viz_static = EelbrainPlotly2DViz(\n",
    "    cmap='Viridis',\n",
    "    show_max_only=True\n",
    ")\n",
    "\n",
    "print(\"📊 Static display method - displays individual Plotly figures with perfect sizing\")\n",
    "print(\"⚡ No server needed - works offline and guarantees proper dimensions\")\n",
    "\n",
    "# Show static version at time point 30 with custom size\n",
    "viz_static.show_in_jupyter_static(time_idx=30, width=1400, height=800)\n"
   ]
  },
  {
   "cell_type": "markdown",
   "metadata": {},
   "source": [
    "## 7. Sizing Comparison and Tips\n",
    "\n",
    "### Two Display Methods for Jupyter:\n",
    "\n",
    "**1. Interactive Display (`show_in_jupyter()`)**\n",
    "- ✅ Full interactivity with real-time controls\n",
    "- ✅ Enhanced iframe sizing for proper display\n",
    "- ✅ Resizable container\n",
    "- ⚠️ Requires server connection\n",
    "\n",
    "**2. Static Display (`show_in_jupyter_static()`)**\n",
    "- ✅ Perfect sizing control\n",
    "- ✅ No server required \n",
    "- ✅ Works offline\n",
    "- ⚠️ No real-time interaction\n",
    "\n",
    "### Sizing Tips:\n",
    "- **Standard laptop**: `width=1200, height=900`\n",
    "- **Large screen**: `width=1600, height=1200` \n",
    "- **Presentation mode**: `width=1400, height=1000`\n",
    "- **Compact view**: `width=1000, height=700`\n"
   ]
  },
  {
   "cell_type": "markdown",
   "metadata": {},
   "source": [
    "## 8. 🎯 动态尺寸检测 - 智能自适应窗口大小\n",
    "\n",
    "LiveNeuron现在支持动态检测Jupyter窗口尺寸并自动调整可视化大小！这解决了您提出的问题。\n"
   ]
  },
  {
   "cell_type": "code",
   "execution_count": null,
   "metadata": {},
   "outputs": [],
   "source": [
    "# 方法1: 一键自动检测最优尺寸\n",
    "print(\"🎯 方法1: 一键自动检测\")\n",
    "print(\"自动检测Jupyter cell宽度并计算最优可视化尺寸\")\n",
    "\n",
    "viz_auto = EelbrainPlotly2DViz(cmap='Plasma')\n",
    "\n",
    "# 这将自动检测窗口尺寸并调整\n",
    "viz_auto.show_in_jupyter_auto()\n"
   ]
  },
  {
   "cell_type": "code",
   "execution_count": null,
   "metadata": {},
   "outputs": [],
   "source": [
    "# 方法2: 自定义响应式参数\n",
    "print(\"🔧 方法2: 自定义响应式参数\")\n",
    "print(\"可以自定义宽高比、最小/最大尺寸等参数\")\n",
    "\n",
    "viz_responsive = EelbrainPlotly2DViz(cmap='Cividis')\n",
    "\n",
    "# 自定义响应式参数\n",
    "viz_responsive.show_in_jupyter_responsive(\n",
    "    aspect_ratio=1.6,     # 16:10 宽高比，适合宽屏\n",
    "    min_width=900,        # 最小宽度\n",
    "    max_width=1800,       # 最大宽度  \n",
    "    min_height=600,       # 最小高度\n",
    "    max_height=1200       # 最大高度\n",
    ")\n"
   ]
  },
  {
   "cell_type": "code",
   "execution_count": null,
   "metadata": {},
   "outputs": [],
   "source": [
    "# 方法3: JavaScript直接检测演示\n",
    "print(\"🔍 方法3: JavaScript直接检测演示\")\n",
    "print(\"直接使用JavaScript检测Jupyter cell尺寸\")\n",
    "\n",
    "from IPython.display import HTML\n",
    "\n",
    "# JavaScript代码直接检测cell尺寸\n",
    "js_detection = \"\"\"\n",
    "<script>\n",
    "function detectJupyterCellSize() {\n",
    "    // 尝试不同的选择器以兼容各种Jupyter版本\n",
    "    var selectors = [\n",
    "        '.output_area',           // Jupyter Notebook\n",
    "        '.jp-OutputArea',         // JupyterLab  \n",
    "        '.jp-Cell-outputArea',    // JupyterLab 新版本\n",
    "        '.cell',                  // 通用\n",
    "        '.code_cell'              // 旧版本\n",
    "    ];\n",
    "    \n",
    "    var cell = null;\n",
    "    for (var i = 0; i < selectors.length; i++) {\n",
    "        cell = document.querySelector(selectors[i]);\n",
    "        if (cell) break;\n",
    "    }\n",
    "    \n",
    "    var cellWidth = 1200;  // 默认值\n",
    "    var windowWidth = window.innerWidth;\n",
    "    var windowHeight = window.innerHeight;\n",
    "    \n",
    "    if (cell) {\n",
    "        cellWidth = cell.clientWidth || cell.offsetWidth;\n",
    "    }\n",
    "    \n",
    "    // 计算建议的可视化尺寸\n",
    "    var vizWidth = Math.max(800, Math.min(1800, cellWidth - 40));\n",
    "    var vizHeight = Math.max(600, Math.min(1200, vizWidth / 1.33));\n",
    "    \n",
    "    // 显示检测结果\n",
    "    document.write('<div style=\"background: linear-gradient(90deg, #667eea 0%, #764ba2 100%); color: white; padding: 15px; border-radius: 8px; margin: 10px 0; font-family: monospace;\">');\n",
    "    document.write('<h4 style=\"margin: 0 0 10px 0;\">📐 Jupyter窗口尺寸检测结果</h4>');\n",
    "    document.write('<div style=\"display: grid; grid-template-columns: 1fr 1fr; gap: 10px;\">');\n",
    "    document.write('<div>');\n",
    "    document.write('<strong>🖥️ 窗口信息:</strong><br/>');\n",
    "    document.write('浏览器窗口: ' + windowWidth + ' × ' + windowHeight + 'px<br/>');\n",
    "    document.write('Jupyter Cell: ' + cellWidth + 'px<br/>');\n",
    "    document.write('检测器: ' + (cell ? cell.className.split(' ')[0] : 'fallback'));\n",
    "    document.write('</div>');\n",
    "    document.write('<div>');\n",
    "    document.write('<strong>🎯 建议尺寸:</strong><br/>');\n",
    "    document.write('可视化宽度: ' + Math.round(vizWidth) + 'px<br/>');\n",
    "    document.write('可视化高度: ' + Math.round(vizHeight) + 'px<br/>');\n",
    "    document.write('宽高比: ' + (vizWidth/vizHeight).toFixed(2));\n",
    "    document.write('</div>');\n",
    "    document.write('</div>');\n",
    "    document.write('</div>');\n",
    "    \n",
    "    // 保存到全局变量供Python访问\n",
    "    window.jupyterDetectedSize = {\n",
    "        cellWidth: cellWidth,\n",
    "        windowWidth: windowWidth, \n",
    "        windowHeight: windowHeight,\n",
    "        recommendedVizWidth: Math.round(vizWidth),\n",
    "        recommendedVizHeight: Math.round(vizHeight)\n",
    "    };\n",
    "}\n",
    "\n",
    "detectJupyterCellSize();\n",
    "</script>\n",
    "\"\"\"\n",
    "\n",
    "HTML(js_detection)\n"
   ]
  },
  {
   "cell_type": "markdown",
   "metadata": {},
   "source": [
    "## 9. 🧠 解剖视图模式 - 灵活的大脑投影布局\n",
    "\n",
    "新增了`display_mode`参数，支持多种解剖视图布局，类似于Eelbrain的GlassBrain功能！\n"
   ]
  },
  {
   "cell_type": "code",
   "execution_count": null,
   "metadata": {},
   "outputs": [],
   "source": [
    "# 单视图模式演示\n",
    "print(\"🔍 单视图模式演示\")\n",
    "\n",
    "# 只显示轴向视图 (Axial - Z平面)\n",
    "viz_axial = EelbrainPlotly2DViz(display_mode='z', cmap='Viridis')\n",
    "print(\"📐 轴向视图 (Axial - Z平面): 显示大脑的水平切片\")\n",
    "viz_axial.show_in_jupyter_static(time_idx=25, width=600, height=400)\n"
   ]
  },
  {
   "cell_type": "code",
   "execution_count": null,
   "metadata": {},
   "outputs": [],
   "source": [
    "# 双视图模式演示\n",
    "print(\"👥 双视图模式演示\")\n",
    "\n",
    "# 显示矢状面和轴向面\n",
    "viz_dual = EelbrainPlotly2DViz(display_mode='xz', cmap='Hot')\n",
    "print(\"📐 双视图 (Sagittal + Axial): 矢状面和轴向面组合\")\n",
    "viz_dual.show_in_jupyter_static(time_idx=25, width=800, height=400)\n"
   ]
  },
  {
   "cell_type": "code",
   "execution_count": null,
   "metadata": {},
   "outputs": [],
   "source": [
    "# 半球特异性视图演示\n",
    "print(\"🧭 半球特异性视图演示\")\n",
    "\n",
    "# 左右半球对比视图\n",
    "viz_hemispheres = EelbrainPlotly2DViz(display_mode='lr', cmap='Plasma')\n",
    "print(\"📐 半球对比 (Left + Right): 左右半球矢状面对比\")\n",
    "viz_hemispheres.show_in_jupyter_static(time_idx=25, width=800, height=400)\n"
   ]
  },
  {
   "cell_type": "code",
   "execution_count": null,
   "metadata": {},
   "outputs": [],
   "source": [
    "# 复杂布局模式演示\n",
    "print(\"🎭 复杂布局模式演示\")\n",
    "\n",
    "# 四视图布局: 左半球 + 轴向 + 右半球 + 冠状面\n",
    "viz_complex = EelbrainPlotly2DViz(display_mode='lzry', cmap='Cividis')\n",
    "print(\"📐 四视图布局 (L+Z+R+Y): 左半球、轴向、右半球、冠状面\")\n",
    "viz_complex.show_in_jupyter_static(time_idx=25, width=1200, height=400)\n"
   ]
  },
  {
   "cell_type": "code",
   "execution_count": null,
   "metadata": {},
   "outputs": [],
   "source": [
    "# Display Mode 参数说明\n",
    "print(\"📋 Display Mode 参数完整列表\")\n",
    "\n",
    "display_modes = {\n",
    "    \"单视图模式\": {\n",
    "        'x': \"矢状面 (Sagittal)\",\n",
    "        'y': \"冠状面 (Coronal)\", \n",
    "        'z': \"轴向面 (Axial)\",\n",
    "        'l': \"左半球矢状面\",\n",
    "        'r': \"右半球矢状面\"\n",
    "    },\n",
    "    \"双视图模式\": {\n",
    "        'xz': \"矢状面 + 轴向面\",\n",
    "        'yx': \"冠状面 + 矢状面\",\n",
    "        'yz': \"冠状面 + 轴向面\",\n",
    "        'lr': \"左半球 + 右半球\"\n",
    "    },\n",
    "    \"三视图模式\": {\n",
    "        'ortho': \"正交视图 (矢状+冠状+轴向)\",\n",
    "        'lzr': \"左半球 + 轴向 + 右半球\",\n",
    "        'lyr': \"左半球 + 冠状 + 右半球\"\n",
    "    },\n",
    "    \"四视图模式\": {\n",
    "        'lzry': \"左半球 + 轴向 + 右半球 + 冠状\",\n",
    "        'lyrz': \"左半球 + 冠状 + 右半球 + 轴向\"\n",
    "    }\n",
    "}\n",
    "\n",
    "for category, modes in display_modes.items():\n",
    "    print(f\"\\n{category}:\")\n",
    "    for mode, description in modes.items():\n",
    "        print(f\"  • '{mode}': {description}\")\n",
    "\n",
    "print(\"\\n💡 使用示例:\")\n",
    "print(\"EelbrainPlotly2DViz(display_mode='ortho')  # 标准三视图\")\n",
    "print(\"EelbrainPlotly2DViz(display_mode='lr')     # 左右半球对比\")\n",
    "print(\"EelbrainPlotly2DViz(display_mode='z')      # 只显示轴向面\")\n"
   ]
  }
 ],
 "metadata": {
  "kernelspec": {
   "display_name": "Python 3 (ipykernel)",
   "language": "python",
   "name": "python3"
  },
  "language_info": {
   "codemirror_mode": {
    "name": "ipython",
    "version": 3
   },
   "file_extension": ".py",
   "mimetype": "text/x-python",
   "name": "python",
   "nbconvert_exporter": "python",
   "pygments_lexer": "ipython3",
   "version": "3.12.8"
  }
 },
 "nbformat": 4,
 "nbformat_minor": 4
}
